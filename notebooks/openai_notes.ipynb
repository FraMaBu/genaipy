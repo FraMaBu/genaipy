{
 "cells": [
  {
   "cell_type": "code",
   "execution_count": 1,
   "metadata": {},
   "outputs": [
    {
     "name": "stdout",
     "output_type": "stream",
     "text": [
      "{'role': 'system', 'content': 'You are a helpful assistant.'}\n"
     ]
    }
   ],
   "source": [
    "role = \"system\"\n",
    "content = \"You are a helpful assistant.\"\n",
    "\n",
    "def construct_chat_message(role: str, content: str) -> dict:\n",
    "    if role not in (\"system\", \"user\", \"assistant\"):\n",
    "        raise ValueError(\"Invalid role, must be 'system', 'user' or 'assistant'.\")\n",
    "    return {\"role\": role, \"content\": content}\n",
    "\n",
    "print(construct_chat_message(role, content))"
   ]
  },
  {
   "cell_type": "code",
   "execution_count": 23,
   "metadata": {},
   "outputs": [
    {
     "name": "stdout",
     "output_type": "stream",
     "text": [
      "Failed after 3 retries. Last error message:\n",
      "Error communicating with OpenAI: HTTPSConnectionPool(host='api.openai.com', port=443): Max retries exceeded with url: /v1/chat/completions (Caused by NameResolutionError(\"<urllib3.connection.HTTPSConnection object at 0x000001A2FAE53450>: Failed to resolve 'api.openai.com' ([Errno 11001] getaddrinfo failed)\"))\n",
      "None\n"
     ]
    }
   ],
   "source": [
    "import openai\n",
    "from time import sleep\n",
    "\n",
    "messages = [\n",
    "    {\"role\": \"system\", \"content\": \"You are a helpful assistant.\"},\n",
    "    {\"role\": \"user\", \"content\": \"Hi there!\"}\n",
    "]\n",
    "\n",
    "def get_chat_completion(messages: dict, model: str = \"gpt-3.5-turbo\", max_retries: int = 3, **kwargs):\n",
    "\n",
    "    error_msg = None\n",
    "    for _ in range(max_retries):\n",
    "        try:\n",
    "            completion = openai.ChatCompletion.create(\n",
    "                model=model, messages=messages, **kwargs\n",
    "            )\n",
    "            return completion\n",
    "        except Exception as e:\n",
    "            error_msg = str(e)\n",
    "            sleep(3)\n",
    "    print(f\"Failed after {max_retries} retries. Last error message: {error_msg}\")\n",
    "    return None\n",
    "\n",
    "\n",
    "print(get_chat_completion(messages=messages, temperature=0.7))"
   ]
  },
  {
   "cell_type": "code",
   "execution_count": 28,
   "metadata": {},
   "outputs": [
    {
     "name": "stdout",
     "output_type": "stream",
     "text": [
      "[{'role': 'user', 'content': 'Who is Socrates?'}]\n",
      "Failed after 3 retries. Last error message:\n",
      "Error communicating with OpenAI: HTTPSConnectionPool(host='api.openai.com', port=443): Max retries exceeded with url: /v1/chat/completions (Caused by NameResolutionError(\"<urllib3.connection.HTTPSConnection object at 0x000001A2F96FB790>: Failed to resolve 'api.openai.com' ([Errno 11001] getaddrinfo failed)\"))\n",
      "Failed to retrieve completion from OpenAI Chat API. 'NoneType' object has no attribute 'choices'\n"
     ]
    }
   ],
   "source": [
    "sys_message = \"\"\n",
    "prompt = \"Who is Socrates?\"\n",
    "\n",
    "messages = []\n",
    "\n",
    "if sys_message:\n",
    "    messages.append(construct_chat_message(\"system\", sys_message))\n",
    "\n",
    "messages.append(construct_chat_message(\"user\", prompt))\n",
    "\n",
    "print(messages)\n",
    "\n",
    "completion = get_chat_completion(messages)\n",
    "\n",
    "try:\n",
    "    print(completion.choices[0].message[\"content\"])\n",
    "except AttributeError as e:\n",
    "    print(f\"Failed to retrieve completion from OpenAI Chat API: {e}\")\n",
    "    raise\n"
   ]
  },
  {
   "cell_type": "code",
   "execution_count": 37,
   "metadata": {},
   "outputs": [
    {
     "name": "stdout",
     "output_type": "stream",
     "text": [
      "Token usage:{\n",
      "  \"prompt_tokens\": 25,\n",
      "  \"completion_tokens\": 71,\n",
      "  \"total_tokens\": 96\n",
      "}\n",
      "Arr, Socrates be a wise old soul from ancient Greece, matey! He be one of the most famous philosophers of all time. He be known for his Socratic method, where he be askin' questions to help folks think deeply 'bout life and the world around 'em. He be a real smarty-pants, I tell ye!\n"
     ]
    }
   ],
   "source": [
    "sys_message = \"You are a helpful assistant answering like a pirate\"\n",
    "prompt = \"Who is Socrates?\"\n",
    "\n",
    "def get_chat_response(prompt: str, sys_message: str = \"\", model: str = \"gpt-3.5-turbo\", **kwargs) -> str:\n",
    "    \n",
    "    messages = []\n",
    "    if sys_message:\n",
    "        messages.append(construct_chat_message(\"system\", sys_message))\n",
    "        \n",
    "    messages.append(construct_chat_message(\"user\", prompt))\n",
    "    completion = get_chat_completion(messages, model=model, **kwargs)\n",
    "\n",
    "    try:\n",
    "        print(f\"Token usage:{completion.usage}\")\n",
    "        return completion.choices[0].message[\"content\"]\n",
    "    except AttributeError as e:\n",
    "        print(f\"Failed to retrieve completion from OpenAI Chat API: {e}\")\n",
    "        raise\n",
    "\n",
    "print(get_chat_response(prompt, sys_message, temperature = 0.7))"
   ]
  }
 ],
 "metadata": {
  "kernelspec": {
   "display_name": "genai-apps",
   "language": "python",
   "name": "python3"
  },
  "language_info": {
   "codemirror_mode": {
    "name": "ipython",
    "version": 3
   },
   "file_extension": ".py",
   "mimetype": "text/x-python",
   "name": "python",
   "nbconvert_exporter": "python",
   "pygments_lexer": "ipython3",
   "version": "3.11.5"
  }
 },
 "nbformat": 4,
 "nbformat_minor": 2
}
